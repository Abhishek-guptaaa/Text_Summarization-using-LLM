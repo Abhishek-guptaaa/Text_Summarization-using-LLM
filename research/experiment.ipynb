{
 "cells": [
  {
   "cell_type": "code",
   "execution_count": 14,
   "metadata": {},
   "outputs": [
    {
     "name": "stdout",
     "output_type": "stream",
     "text": [
      "\n",
      "%INSTRUCTIONS:\n",
      "Please summarize the following piece of text.\n",
      "make it that easy so that a 5 year old would understand.\n",
      "\n",
      "%TEXT:\n",
      "\n",
      "Subedar Major Neeraj Chopra PVSM VSM OLY (born 24 December 1997) is an \n",
      "Indian track and field athlete competing in javelin throw. He became the first Asian athlete to win \n",
      "an Olympic gold medal after he won the gold medal at the 2020 Olympics. He was also the first Asian to \n",
      "win gold in the javelin throw event after his win at the 2023 World Championship.\n",
      "\n",
      "\n",
      "\n",
      "**Neeraj Chopra is a super strong athlete from India who throws a special toy called a javelin. He's so good that he won a gold medal in the Olympics, which is like the biggest competition in the world! He's also the first person from Asia to ever win an Olympic gold medal.**\n"
     ]
    }
   ],
   "source": [
    "from dotenv import load_dotenv\n",
    "import os\n",
    "from langchain.schema import AIMessage, HumanMessage\n",
    "\n",
    "# Load environment variables from the .env file\n",
    "load_dotenv()\n",
    "\n",
    "# Access the API key from the environment variables\n",
    "api_key = os.getenv(\"GROQ_API_KEY\")\n",
    "\n",
    "\n",
    "from langchain_groq import ChatGroq\n",
    "from langchain import PromptTemplate\n",
    "\n",
    "model = ChatGroq(api_key= api_key, model_name=\"gemma-7b-it\", temperature=0.0)\n",
    "\n",
    "template = \"\"\"\n",
    "%INSTRUCTIONS:\n",
    "Please summarize the following piece of text.\n",
    "make it that easy so that a 5 year old would understand.\n",
    "\n",
    "%TEXT:\n",
    "{text}\n",
    "\"\"\"\n",
    "\n",
    "\n",
    "prompt = PromptTemplate(\n",
    "    input_variables=[\"text\"],\n",
    "    template=template,\n",
    ")\n",
    "\n",
    "summarisation_text  = \"\"\"\n",
    "Subedar Major Neeraj Chopra PVSM VSM OLY (born 24 December 1997) is an \n",
    "Indian track and field athlete competing in javelin throw. He became the first Asian athlete to win \n",
    "an Olympic gold medal after he won the gold medal at the 2020 Olympics. He was also the first Asian to \n",
    "win gold in the javelin throw event after his win at the 2023 World Championship.\n",
    "\n",
    "\"\"\"\n",
    "\n",
    "\n",
    "final_prompt = prompt.format(text=summarisation_text )\n",
    "print(final_prompt)\n",
    "\n",
    "# Create a HumanMessage object\n",
    "messages = [HumanMessage(content=final_prompt)]\n",
    "\n",
    "# Send the message to the model and get the summary\n",
    "output = model(messages)\n",
    "\n",
    "# Print the response\n",
    "# Print only the summarized content\n",
    "print(output.content)\n",
    "\n",
    "\n"
   ]
  }
 ],
 "metadata": {
  "kernelspec": {
   "display_name": "Python 3",
   "language": "python",
   "name": "python3"
  },
  "language_info": {
   "codemirror_mode": {
    "name": "ipython",
    "version": 3
   },
   "file_extension": ".py",
   "mimetype": "text/x-python",
   "name": "python",
   "nbconvert_exporter": "python",
   "pygments_lexer": "ipython3",
   "version": "3.9.19"
  }
 },
 "nbformat": 4,
 "nbformat_minor": 2
}
